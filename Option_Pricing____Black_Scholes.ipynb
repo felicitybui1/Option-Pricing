{
  "nbformat": 4,
  "nbformat_minor": 0,
  "metadata": {
    "colab": {
      "provenance": []
    },
    "kernelspec": {
      "name": "python3",
      "display_name": "Python 3"
    },
    "language_info": {
      "name": "python"
    }
  },
  "cells": [
    {
      "cell_type": "markdown",
      "source": [
        "# Overview"
      ],
      "metadata": {
        "id": "O0kuLmfFIR8Z"
      }
    },
    {
      "cell_type": "markdown",
      "source": [
        "**Option Pricing using Black-Scholes** - ***by Felicity Bui***\n",
        "\n",
        "\n",
        "*  Black-Scholes-Merton (BSM) - a differential equation.\n",
        "*   BSM theory suggests that assets, like stocks or futures, exhibit a lognormal price distribution over time due to a random walk with steady drift and volatility.\n",
        "*   BSM takes five input variables: the strike price of an option, the current stock price, the time to expiration, the risk-free rate, and the volatility to price option contracts.\n",
        "*   The ultimate goal is to assist option sellers to determine rational prices for the options they offer. The model also anticipates that heavily traded assets follow a geometric Brownian motion with consistent drift and volatility. When applied to stock options, it factors in the stock's price variability, time value of money, strike price, and time until expiration.\n"
      ],
      "metadata": {
        "id": "k20bF0RCHgkN"
      }
    },
    {
      "cell_type": "markdown",
      "source": [
        "# Black-Scholes model without live price call"
      ],
      "metadata": {
        "id": "nR6l2x9pIIZL"
      }
    },
    {
      "cell_type": "code",
      "execution_count": null,
      "metadata": {
        "colab": {
          "base_uri": "https://localhost:8080/"
        },
        "id": "5OhqYayjKM_5",
        "outputId": "0fe0556c-50c2-4650-e739-ccd46f0ed7e0"
      },
      "outputs": [
        {
          "output_type": "stream",
          "name": "stdout",
          "text": [
            "[90, 95, 100, 105, 110]\n",
            "Strike Price: 90\n",
            "Option Prices: 13.351\n",
            "\n",
            "Strike Price: 95\n",
            "Option Prices: 9.741\n",
            "\n",
            "Strike Price: 100\n",
            "Option Prices: 6.778\n",
            "\n",
            "Strike Price: 105\n",
            "Option Prices: 4.495\n",
            "\n",
            "Strike Price: 110\n",
            "Option Prices: 2.843\n",
            "\n"
          ]
        }
      ],
      "source": [
        "import numpy as np\n",
        "import pandas as pd\n",
        "from scipy.stats import norm\n",
        "\n",
        "def black_scholes_call(S, K, r, t, sigma):\n",
        "    d1 = (np.log(S / K) + (r + 0.5 * sigma**2) * t) / (sigma * np.sqrt(t))\n",
        "    d2 = d1 - sigma * np.sqrt(t)\n",
        "\n",
        "    call_price = S * norm.cdf(d1) - K * np.exp(-r * t) * norm.cdf(d2)\n",
        "\n",
        "    return call_price\n",
        "\n",
        "def calculate_option_prices(stock_price, strike_prices, r, t, sigma):\n",
        "    option_prices = {}\n",
        "    for strike_price in strike_prices:\n",
        "        call_price = black_scholes_call(stock_price, strike_price, r, t, sigma)\n",
        "        option_prices[strike_price] = call_price\n",
        "        option_prices[strike_price] = round(call_price, 3)\n",
        "    return option_prices\n",
        "\n",
        "stock_prices = 100 #hypothesis\n",
        "initial_strike = stock_prices - 10  # Start from 10 below previous close\n",
        "\n",
        "# Check if the initial strike is below 25, between 25 and 200, or above 200\n",
        "if initial_strike < 25:\n",
        "    increment = 2.5\n",
        "elif 25 <= initial_strike <= 200:\n",
        "    increment = 5\n",
        "else:\n",
        "    increment = 10\n",
        "\n",
        "strike_prices = []\n",
        "\n",
        "# Generate strike prices\n",
        "for i in range(5):\n",
        "    strike_prices.append(initial_strike)\n",
        "    initial_strike += increment\n",
        "\n",
        "print(strike_prices)\n",
        "\n",
        "# Other parameters (hypothetical values)\n",
        "r = 0.0458   # Risk-free interest rate\n",
        "t = 0.5    # Time to maturity (in years)\n",
        "sigma = 0.2  # Volatility\n",
        "\n",
        "# Calculate option prices\n",
        "option_prices = calculate_option_prices(stock_prices, strike_prices, r, t, sigma)\n",
        "\n",
        "# Print example option prices for each strike price\n",
        "for strike_price, prices in option_prices.items():\n",
        "    print(f\"Strike Price: {strike_price}\")\n",
        "    print(\"Option Prices:\", prices)\n",
        "    print()"
      ]
    },
    {
      "cell_type": "markdown",
      "source": [
        "# Black-Scholes model with live price call from yahoo.com"
      ],
      "metadata": {
        "id": "ugdEKTuWM8io"
      }
    },
    {
      "cell_type": "markdown",
      "source": [
        "get html table structure"
      ],
      "metadata": {
        "id": "P6U6ULG0YPim"
      }
    },
    {
      "cell_type": "code",
      "source": [
        "import requests\n",
        "from bs4 import BeautifulSoup\n",
        "\n",
        "# URL of the webpage\n",
        "url = \"https://finance.yahoo.com/quote/AMZN?.tsrc=fin-srch\"\n",
        "\n",
        "# Fetch the HTML content of the webpage\n",
        "response = requests.get(url)\n",
        "\n",
        "# Parse the HTML content\n",
        "soup = BeautifulSoup(response.content, 'html.parser')\n",
        "\n",
        "# Find the table element(s)\n",
        "tables = soup.find_all('table')\n",
        "\n",
        "# Print the structure of table for testing\n",
        "#for i, table in enumerate(tables, start=1):\n",
        "#    print(f\"Table {i} Structure:\")\n",
        "#    print(table)\n",
        "#    print()\n"
      ],
      "metadata": {
        "id": "gp88_zSrXVKW"
      },
      "execution_count": null,
      "outputs": []
    },
    {
      "cell_type": "markdown",
      "source": [
        "**define functions**"
      ],
      "metadata": {
        "id": "Aa5qCvaeZeFZ"
      }
    },
    {
      "cell_type": "code",
      "source": [
        "import requests\n",
        "from bs4 import BeautifulSoup\n",
        "import pandas as pd\n",
        "import numpy as np\n",
        "from scipy.stats import norm\n",
        "\n",
        "def black_scholes_call(S, K, r, t, sigma):\n",
        "    d1 = (np.log(S / K) + (r + 0.5 * sigma**2) * t) / (sigma * np.sqrt(t))\n",
        "    d2 = d1 - sigma * np.sqrt(t)\n",
        "\n",
        "    call_price = S * norm.cdf(d1) - K * np.exp(-r * t) * norm.cdf(d2)\n",
        "\n",
        "    return call_price\n",
        "\n",
        "def calculate_option_prices(stock_price, strike_prices, r, t, sigma):\n",
        "    option_prices = {}\n",
        "    for strike_price in strike_prices:\n",
        "        call_price = black_scholes_call(stock_price, strike_price, r, t, sigma)\n",
        "        option_prices[strike_price] = call_price\n",
        "        option_prices[strike_price] = round(call_price, 3)\n",
        "    return option_prices\n",
        "\n",
        "def get_previous_close(ticker):\n",
        "    url = f\"https://finance.yahoo.com/quote/{ticker}\"\n",
        "    response = requests.get(url)\n",
        "    #print(response.content)\n",
        "    soup = BeautifulSoup(response.content, 'html.parser')\n",
        "\n",
        "    # Find the HTML element containing the previous close price\n",
        "    previous_close_element = soup.find(\"span\", text=\"Previous Close\")\n",
        "    # Check if the element was found\n",
        "    if previous_close_element:\n",
        "        # If the element was found, extract the next sibling element which contains the value\n",
        "        previous_close = previous_close_element.find_next_sibling(\"span\")\n",
        "        # Convert the text to a float and remove commas\n",
        "        previous_close = previous_close.text.strip()\n",
        "        previous_close = float(previous_close.replace(',', ''))\n",
        "        return previous_close\n",
        "    else:\n",
        "        # If the element was not found, return None or raise an error\n",
        "        return None\n",
        "\n",
        "\n",
        "# Get previous close price of stock\n",
        "ticker_symbol = \"GOOG\"\n",
        "previous_close_price = get_previous_close(ticker_symbol)\n",
        "\n",
        "# Print the previous close price\n",
        "print(ticker_symbol + \" Previous Close Price:\", previous_close_price)\n",
        "#print(type(previous_close_price))\n"
      ],
      "metadata": {
        "colab": {
          "base_uri": "https://localhost:8080/"
        },
        "id": "9ju7VKduM8Io",
        "outputId": "a3d9e791-60f4-4676-a50a-8f2b405885fe"
      },
      "execution_count": null,
      "outputs": [
        {
          "output_type": "stream",
          "name": "stdout",
          "text": [
            "GOOG Previous Close Price: 170.9\n"
          ]
        },
        {
          "output_type": "stream",
          "name": "stderr",
          "text": [
            "<ipython-input-5-65c2797acdb3>:30: DeprecationWarning: The 'text' argument to find()-type methods is deprecated. Use 'string' instead.\n",
            "  previous_close_element = soup.find(\"span\", text=\"Previous Close\")\n"
          ]
        }
      ]
    },
    {
      "cell_type": "markdown",
      "source": [
        "Generate hypothetical values - strike prices and other parameters"
      ],
      "metadata": {
        "id": "OkvsWX7OZ0Wk"
      }
    },
    {
      "cell_type": "code",
      "source": [
        "initial_strike = previous_close_price - 10  # Start from 10 below previous close\n",
        "\n",
        "# Check if the initial strike is below 25, between 25 and 200, or above 200\n",
        "if initial_strike < 25:\n",
        "    increment = 2.5\n",
        "elif 25 <= initial_strike <= 200:\n",
        "    increment = 5\n",
        "else:\n",
        "    increment = 10\n",
        "\n",
        "strike_prices = []\n",
        "\n",
        "# Generate strike prices\n",
        "for i in range(5):\n",
        "    strike_prices.append(initial_strike)\n",
        "    initial_strike += increment\n",
        "\n",
        "print(strike_prices)\n",
        "\n",
        "# Other parameters\n",
        "r = 0.0458   # Risk-free interest rate\n",
        "t = 0.5    # Time to maturity (in years)\n",
        "sigma = 0.2  # Volatility"
      ],
      "metadata": {
        "colab": {
          "base_uri": "https://localhost:8080/"
        },
        "id": "5drylt-GpWwe",
        "outputId": "b10ec5be-029f-4fbf-fe00-6a2bb18880ca"
      },
      "execution_count": null,
      "outputs": [
        {
          "output_type": "stream",
          "name": "stdout",
          "text": [
            "[160.9, 165.9, 170.9, 175.9, 180.9]\n"
          ]
        }
      ]
    },
    {
      "cell_type": "markdown",
      "source": [
        "Call function"
      ],
      "metadata": {
        "id": "QiHLiEJHZq5d"
      }
    },
    {
      "cell_type": "code",
      "source": [
        "# Calculate option prices\n",
        "stock_price = previous_close_price  # Assign the single stock price\n",
        "option_prices = calculate_option_prices(stock_price, strike_prices, r, t, sigma)\n",
        "\n",
        "# Print example option prices for each strike price\n",
        "for strike_price, prices in option_prices.items():\n",
        "    print(f\"Strike Price: {strike_price}\")\n",
        "    print(\"Option Prices:\", prices)\n",
        "    print()"
      ],
      "metadata": {
        "colab": {
          "base_uri": "https://localhost:8080/"
        },
        "id": "DX62KSlqZskw",
        "outputId": "8f84e755-44db-421c-be7a-95adcc379705"
      },
      "execution_count": null,
      "outputs": [
        {
          "output_type": "stream",
          "name": "stdout",
          "text": [
            "Strike Price: 160.9\n",
            "Option Prices: 17.623\n",
            "\n",
            "Strike Price: 165.9\n",
            "Option Prices: 14.406\n",
            "\n",
            "Strike Price: 170.9\n",
            "Option Prices: 11.584\n",
            "\n",
            "Strike Price: 175.9\n",
            "Option Prices: 9.162\n",
            "\n",
            "Strike Price: 180.9\n",
            "Option Prices: 7.129\n",
            "\n"
          ]
        }
      ]
    }
  ]
}